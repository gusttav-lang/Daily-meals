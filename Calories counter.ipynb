{
 "cells": [
  {
   "cell_type": "markdown",
   "metadata": {},
   "source": [
    "# Criação das classes utilizadas para registrar calorias"
   ]
  },
  {
   "cell_type": "code",
   "execution_count": 1,
   "metadata": {},
   "outputs": [],
   "source": [
    "class Food:\n",
    "    def __init__(self, name, portion, kcal = 0, carbs = 0, protein = 0, fat = 0):\n",
    "        self.name = name\n",
    "        self.portion = portion #porção de referência em gramas\n",
    "        self.kcal = kcal\n",
    "        self.carbs = carbs\n",
    "        self.protein = protein\n",
    "        self.fat = fat\n",
    "        \n",
    "    def kcal_per_gram(self):\n",
    "        return self.kcal/self.portion\n",
    "    \n",
    "    def carbs_per_gram(self):\n",
    "        return self.carbs/self.portion\n",
    "    \n",
    "    def protein_per_gram(self):\n",
    "        return self.protein/self.portion\n",
    "    \n",
    "    def fat_per_gram(self):\n",
    "        return self.fat/self.portion\n",
    "        \n",
    "    \n",
    "class ConsumedFood:\n",
    "    def __init__(self, food: Food, consumed: int):\n",
    "        self.food = food\n",
    "        self.consumed = consumed\n",
    "        \n",
    "class Meal:\n",
    "    def __init__(self, name: str):\n",
    "        self.name = name\n",
    "        self.consumed_foods = []\n",
    "        \n",
    "    def append_consumed_food(self, food: Food, consumed: int):\n",
    "        consumed_food = ConsumedFood(food, consumed)\n",
    "        self.consumed_foods.append(consumed_food)\n",
    "        \n",
    "    def kcal_in_meal(self):\n",
    "        kcal = 0\n",
    "        for consumed_food in self.consumed_foods:\n",
    "            kcal += consumed_food.food.kcal_per_gram() * consumed_food.consumed\n",
    "        return kcal\n",
    "    \n",
    "    def carbs_in_meal(self):\n",
    "        carbs = 0\n",
    "        for consumed_food in self.consumed_foods:\n",
    "            carbs += consumed_food.food.carbs_per_gram() * consumed_food.consumed\n",
    "        return carbs\n",
    "    \n",
    "    def protein_in_meal(self):\n",
    "        protein = 0\n",
    "        for consumed_food in self.consumed_foods:\n",
    "            protein += consumed_food.food.protein_per_gram() * consumed_food.consumed\n",
    "        return protein\n",
    "    \n",
    "    def fat_in_meal(self):\n",
    "        fat = 0\n",
    "        for consumed_food in self.consumed_foods:\n",
    "            fat += consumed_food.food.fat_per_gram() * consumed_food.consumed\n",
    "        return fat\n",
    "        \n",
    "    "
   ]
  },
  {
   "cell_type": "markdown",
   "metadata": {},
   "source": [
    "# Registrando comidas consumidas no dia:"
   ]
  },
  {
   "cell_type": "code",
   "execution_count": 2,
   "metadata": {},
   "outputs": [],
   "source": [
    "aveia = Food(\"Aveia\", 30, 120, 18, 3.7, 3)\n",
    "frango = Food(\"Frango sem pele cozido\", 100, 151, 0, 29, 3) # fonte = sadia. Tá bem diferente do que pesquidar no google\n",
    "whey = Food(\"Whey\", 30, 116, 5, 23, 0) #fonte = growth\n",
    "banana = Food(\"Banana\", 100, 92, 24, 1, 0)\n",
    "pasta_de_amendoim = Food(\"Pasta de amendoim\", 15, 88, 3, 4.1, 6.6)\n",
    "feijao = Food(\"Feijão\", 60, 156, 25, 11, 1.1)\n",
    "castanha_caju = Food(\"Castanha de Caju\", 100, 556, 38, 18, 37) #https://cuidai.com.br/alimentacao/busca-de-alimentos/alimentos/1919-castanha-de-caju-torrada\n",
    "maltodextrina = Food(\"Maltodextrina\", 50, 188, 47, 0, 0)\n",
    "aminoacidos = Food(\"Aminoacidos pré treino\", 10, 37, 2, 7.4, 0)\n",
    "arroz_integral = Food(\"Arroz Integral\", 100, 123.5, 25.8, 2.6, 1)\n",
    "batatinha = Food(\"Batatinha\", 100, 85, 19, 2, 0)\n",
    "batata_doce = Food(\"Batata doce\",100, 125, 28, 2, 1)\n",
    "atum = Food(\"Atum sólido\", 60, 105, 0, 15, 5.1)\n",
    "maionese = Food(\"Hellmann's\", 12, 40, 0.8, 0, 4)\n",
    "bolachinha = Food(\"Bolachinha de cereal\", 25, 91, 19, 2.5, 0.6)\n",
    "barra_proteina = Food(\"Barra de proteína growth\", 30, 99, 10, 10, 2.2)\n",
    "azeite_oliva = Food(\"Azeite de oliva\", 13, 108, 0, 0, 12)\n",
    "coxao_mole = Food(\"Coxão mole\", 100, 169, 0, 21.2, 8.7)\n",
    "bergamota = Food(\"1 Bergamota\", 85, 42, 10.7, 0.65, 0.25)\n",
    "albumina = Food(\"Albumina\", 30, 102, 1.5, 24, 0)\n",
    "mel = Food(\"Mel\", 21, 64, 17.3, 0.05, 0) #https://www.yazio.com/pt/alimentos/mel.html\n",
    "leite_desnatado = Food(\"Leite desnatado\", 200, 61, 9, 6.3, 0)\n",
    "creme_ricota = Food(\"Creme de Ricota\", 30, 59, 0, 2.4, 5.4)\n",
    "suco_uva_integral = Food(\"Suco de uva integral\", 200, 145, 35, 0, 0)\n",
    "pao_integral = Food(\"Pão integral Steinbach\", 30, 61, 13.7, 1.7, 0.3)"
   ]
  },
  {
   "cell_type": "markdown",
   "metadata": {},
   "source": [
    "# Registrando refeições passadas pela nutricionista:"
   ]
  },
  {
   "cell_type": "code",
   "execution_count": 3,
   "metadata": {},
   "outputs": [
    {
     "data": {
      "text/plain": [
       "'\\n#segundo menu:\\nmeal1 = Meal(\"Café da manhã\")\\nmeal1.append_consumed_food(bolachinha, 25)\\nmeal1.append_consumed_food(atum, 60)\\nmeal1.append_consumed_food(maionese, 10) #meia colher bem cheia\\n'"
      ]
     },
     "execution_count": 3,
     "metadata": {},
     "output_type": "execute_result"
    }
   ],
   "source": [
    "\n",
    "meal1 = Meal(\"Café da manhã\")\n",
    "meal1.append_consumed_food(banana, 150)\n",
    "meal1.append_consumed_food(pasta_de_amendoim, 20)\n",
    "meal1.append_consumed_food(whey, 30)\n",
    "meal1.append_consumed_food(aveia, 30)\n",
    "\n",
    "'''\n",
    "#segundo menu:\n",
    "meal1 = Meal(\"Café da manhã\")\n",
    "meal1.append_consumed_food(bolachinha, 25)\n",
    "meal1.append_consumed_food(atum, 60)\n",
    "meal1.append_consumed_food(maionese, 10) #meia colher bem cheia\n",
    "'''"
   ]
  },
  {
   "cell_type": "code",
   "execution_count": 4,
   "metadata": {},
   "outputs": [],
   "source": [
    "meal2 = Meal(\"Lanche da manhã\")\n",
    "meal2.append_consumed_food(aveia, 30)\n",
    "meal2.append_consumed_food(whey, 15)"
   ]
  },
  {
   "cell_type": "code",
   "execution_count": 5,
   "metadata": {},
   "outputs": [],
   "source": [
    "meal3 = Meal(\"Almoço\")\n",
    "meal3.append_consumed_food(feijao, 150)\n",
    "meal3.append_consumed_food(batatinha, 100)\n",
    "meal3.append_consumed_food(arroz_integral ,100)\n",
    "meal3.append_consumed_food(frango, 220)\n",
    "meal3.append_consumed_food(azeite_oliva, 25)"
   ]
  },
  {
   "cell_type": "code",
   "execution_count": 6,
   "metadata": {},
   "outputs": [],
   "source": [
    "meal4 = Meal(\"Pré treino\")\n",
    "meal4.append_consumed_food(castanha_caju, 30)\n",
    "meal4.append_consumed_food(maltodextrina,30)\n",
    "meal4.append_consumed_food(aminoacidos, 10)"
   ]
  },
  {
   "cell_type": "code",
   "execution_count": 7,
   "metadata": {},
   "outputs": [],
   "source": [
    "meal5 = Meal(\"Janta\")\n",
    "meal5.append_consumed_food(frango, 200)\n",
    "meal5.append_consumed_food(batata_doce, 200)"
   ]
  },
  {
   "cell_type": "code",
   "execution_count": 8,
   "metadata": {},
   "outputs": [],
   "source": [
    "meal6 = Meal(\"Ceia\")\n",
    "meal6.append_consumed_food(whey, 30)\n",
    "meal6.append_consumed_food(aveia, 30)\n",
    "meal6.append_consumed_food(banana, 100)"
   ]
  },
  {
   "cell_type": "code",
   "execution_count": 9,
   "metadata": {},
   "outputs": [],
   "source": [
    "meals_in_day = []\n",
    "meals_in_day.append(meal1)\n",
    "meals_in_day.append(meal2)\n",
    "meals_in_day.append(meal3)\n",
    "meals_in_day.append(meal4)\n",
    "meals_in_day.append(meal5)\n",
    "meals_in_day.append(meal6)"
   ]
  },
  {
   "cell_type": "code",
   "execution_count": 10,
   "metadata": {},
   "outputs": [
    {
     "name": "stdout",
     "output_type": "stream",
     "text": [
      "Kcal in the day: 3004.325641025641 kcal\n",
      "Protein in the day: 247.26666666666665 g\n",
      "Fat in the day: 70.32692307692307 g\n",
      "Carbs in the day: 335.40000000000003 g\n"
     ]
    }
   ],
   "source": [
    "kcal_in_day = 0\n",
    "protein_in_day = 0\n",
    "fat_in_day = 0\n",
    "carbs_in_day = 0\n",
    "for meal in meals_in_day:\n",
    "    kcal_in_day += meal.kcal_in_meal()\n",
    "    protein_in_day += meal.protein_in_meal()\n",
    "    fat_in_day += meal.fat_in_meal()\n",
    "    carbs_in_day += meal.carbs_in_meal()\n",
    "print(\"Kcal in the day: \" + str(kcal_in_day) + \" kcal\")\n",
    "print(\"Protein in the day: \" + str(protein_in_day) + \" g\")\n",
    "print(\"Fat in the day: \" + str(fat_in_day) + \" g\")\n",
    "print(\"Carbs in the day: \" + str(carbs_in_day) + \" g\")"
   ]
  },
  {
   "cell_type": "markdown",
   "metadata": {},
   "source": [
    "# Cálculo Metabolismo basal:"
   ]
  },
  {
   "cell_type": "code",
   "execution_count": 11,
   "metadata": {},
   "outputs": [
    {
     "name": "stdout",
     "output_type": "stream",
     "text": [
      "2004.1999999999998 kcal\n"
     ]
    }
   ],
   "source": [
    "idade = 25\n",
    "altura = 186\n",
    "peso = 86\n",
    "\n",
    "mb = 66 + 13.7*peso + 5*altura - 6.8*idade\n",
    "print(str(mb) + \" kcal\")"
   ]
  },
  {
   "cell_type": "markdown",
   "metadata": {},
   "source": [
    "# Criando próprio menu para bulking. Semana 2 (01/02)\n",
    "# Meta:\n",
    "- 1.9g de proteína por kg, ou seja 160g de proteína\n",
    "- 1g de gordura por kg, ou seja, +/- 85g de gordura\n",
    "- Comer 2700 kcal no dia\n",
    "- Carboidratos servem para fechar as kcal\n",
    "- Aumentar 75kcal por semana até 3000kcal\n"
   ]
  },
  {
   "cell_type": "code",
   "execution_count": null,
   "metadata": {},
   "outputs": [],
   "source": []
  },
  {
   "cell_type": "markdown",
   "metadata": {},
   "source": [
    "## Semana 2 (01/02 - 10/02) \n",
    "## Meta: aproximadamente 2700kcal"
   ]
  },
  {
   "cell_type": "code",
   "execution_count": 80,
   "metadata": {},
   "outputs": [
    {
     "data": {
      "text/plain": [
       "'\\n#segundo menu:\\nmeal1 = Meal(\"Café da manhã\")\\nmeal1.append_consumed_food(bolachinha, 25)\\nmeal1.append_consumed_food(atum, 60)\\nmeal1.append_consumed_food(creme_ricota, 25) #meia colher bem cheia\\n'"
      ]
     },
     "execution_count": 80,
     "metadata": {},
     "output_type": "execute_result"
    }
   ],
   "source": [
    "#'''\n",
    "meal1 = Meal(\"Café da manhã\")\n",
    "meal1.append_consumed_food(banana, 150)\n",
    "meal1.append_consumed_food(pasta_de_amendoim, 25)\n",
    "meal1.append_consumed_food(whey, 20)\n",
    "meal1.append_consumed_food(aveia, 40)\n",
    "\n",
    "'''\n",
    "#segundo menu:\n",
    "meal1 = Meal(\"Café da manhã\")\n",
    "meal1.append_consumed_food(bolachinha, 25)\n",
    "meal1.append_consumed_food(atum, 60)\n",
    "meal1.append_consumed_food(creme_ricota, 25) #meia colher bem cheia\n",
    "'''"
   ]
  },
  {
   "cell_type": "code",
   "execution_count": 81,
   "metadata": {},
   "outputs": [],
   "source": [
    "meal2 = Meal(\"Lanche da manhã\")\n",
    "meal2.append_consumed_food(castanha_caju, 30)\n",
    "meal2.append_consumed_food(bergamota, 85)"
   ]
  },
  {
   "cell_type": "code",
   "execution_count": 12,
   "metadata": {},
   "outputs": [],
   "source": [
    "meal3 = Meal(\"Almoço\")\n",
    "meal3.append_consumed_food(feijao, 80)\n",
    "meal3.append_consumed_food(batatinha, 150)\n",
    "meal3.append_consumed_food(arroz_integral, 50)\n",
    "meal3.append_consumed_food(coxao_mole, 180)\n",
    "meal3.append_consumed_food(azeite_oliva, 20)\n",
    "meal3.append_consumed_food(leite_desnatado, 50) #café pós almoço\n",
    "#aqui provavelmente vai entrar mais alguma gordura de algo empanado que devo comer. Ao almoçar em casa, caprichar no azeite"
   ]
  },
  {
   "cell_type": "code",
   "execution_count": 13,
   "metadata": {},
   "outputs": [],
   "source": [
    "meal4 = Meal(\"Pré treino\")\n",
    "#meal4.append_consumed_food(castanha_caju, 15)\n",
    "meal4.append_consumed_food(maltodextrina,15)\n",
    "meal4.append_consumed_food(aminoacidos, 10)\n",
    "meal4.append_consumed_food(bergamota, 85)\n",
    "meal4.append_consumed_food(suco_uva_integral, 200)"
   ]
  },
  {
   "cell_type": "code",
   "execution_count": 14,
   "metadata": {},
   "outputs": [],
   "source": [
    "meal5 = Meal(\"Janta\")\n",
    "meal5.append_consumed_food(frango, 150)\n",
    "meal5.append_consumed_food(batata_doce, 250)\n",
    "meal5.append_consumed_food(azeite_oliva, 10)\n",
    "#quando almoçar fora não precisa do azeite"
   ]
  },
  {
   "cell_type": "code",
   "execution_count": 18,
   "metadata": {},
   "outputs": [],
   "source": [
    "meal6 = Meal(\"Ceia\")\n",
    "meal6.append_consumed_food(albumina, 15)\n",
    "meal6.append_consumed_food(aveia, 40)\n",
    "meal6.append_consumed_food(mel, 15)\n",
    "#meal6.append_consumed_food(banana, 75)"
   ]
  },
  {
   "cell_type": "code",
   "execution_count": 19,
   "metadata": {},
   "outputs": [],
   "source": [
    "meals_in_day = []\n",
    "meals_in_day.append(meal1)\n",
    "meals_in_day.append(meal2)\n",
    "meals_in_day.append(meal3)\n",
    "meals_in_day.append(meal4)\n",
    "meals_in_day.append(meal5)\n",
    "meals_in_day.append(meal6)"
   ]
  },
  {
   "cell_type": "code",
   "execution_count": 20,
   "metadata": {},
   "outputs": [
    {
     "name": "stdout",
     "output_type": "stream",
     "text": [
      "Kcal in the day: 2711.3783882783887 kcal\n",
      "Protein in the day: 181.08738095238095 g\n",
      "Fat in the day: 71.36897435897436 g\n",
      "Carbs in the day: 329.3904761904762 g\n"
     ]
    }
   ],
   "source": [
    "kcal_in_day = 0\n",
    "protein_in_day = 0\n",
    "fat_in_day = 0\n",
    "carbs_in_day = 0\n",
    "for meal in meals_in_day:\n",
    "    kcal_in_day += meal.kcal_in_meal()\n",
    "    protein_in_day += meal.protein_in_meal()\n",
    "    fat_in_day += meal.fat_in_meal()\n",
    "    carbs_in_day += meal.carbs_in_meal()\n",
    "print(\"Kcal in the day: \" + str(kcal_in_day) + \" kcal\")\n",
    "print(\"Protein in the day: \" + str(protein_in_day) + \" g\")\n",
    "print(\"Fat in the day: \" + str(fat_in_day) + \" g\")\n",
    "print(\"Carbs in the day: \" + str(carbs_in_day) + \" g\")"
   ]
  },
  {
   "cell_type": "code",
   "execution_count": null,
   "metadata": {},
   "outputs": [],
   "source": []
  }
 ],
 "metadata": {
  "kernelspec": {
   "display_name": "Python 3",
   "language": "python",
   "name": "python3"
  },
  "language_info": {
   "codemirror_mode": {
    "name": "ipython",
    "version": 3
   },
   "file_extension": ".py",
   "mimetype": "text/x-python",
   "name": "python",
   "nbconvert_exporter": "python",
   "pygments_lexer": "ipython3",
   "version": "3.8.5"
  }
 },
 "nbformat": 4,
 "nbformat_minor": 4
}
